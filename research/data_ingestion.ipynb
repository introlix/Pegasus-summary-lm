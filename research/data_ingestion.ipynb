{
 "cells": [
  {
   "cell_type": "code",
   "execution_count": 1,
   "metadata": {},
   "outputs": [],
   "source": [
    "import os\n",
    "import zipfile\n",
    "from dataclasses import dataclass\n",
    "from pathlib import Path\n",
    "\n",
    "from summarylm.logging import logger\n",
    "from summarylm.constants import *\n",
    "from summarylm.utils.common import read_yaml, create_directories, get_size"
   ]
  },
  {
   "cell_type": "code",
   "execution_count": 2,
   "metadata": {},
   "outputs": [],
   "source": [
    "os.chdir(\"../\")"
   ]
  },
  {
   "cell_type": "code",
   "execution_count": 5,
   "metadata": {},
   "outputs": [],
   "source": [
    "@dataclass(frozen=True)\n",
    "class DataIngestionConfig:\n",
    "    root_dir: Path\n",
    "    ALL_HUGGINGFACE_DATA: list\n",
    "    LOCAL_DATA_FILE: list"
   ]
  },
  {
   "cell_type": "code",
   "execution_count": 6,
   "metadata": {},
   "outputs": [],
   "source": [
    "class ConfigurationManager:\n",
    "    def __init__(self, config_filepath = CONFIG_FILE_PATH, params_filepath = PARAMS_FILE_PATH) -> None:\n",
    "        self.config = read_yaml(config_filepath)\n",
    "        self.params = read_yaml(params_filepath)\n",
    "\n",
    "        create_directories([self.config.artifacts_root])\n",
    "\n",
    "    def get_data_ingestion_config(self) -> DataIngestionConfig:\n",
    "        config = self.config.data_ingestion\n",
    "\n",
    "        create_directories([config.root_dir])\n",
    "\n",
    "        data_ingestion_config = DataIngestionConfig(\n",
    "            root_dir=config.root_dir,\n",
    "            ALL_HUGGINGFACE_DATA=config.ALL_HUGGINGFACE_DATA,\n",
    "            LOCAL_DATA_FILE = config.LOCAL_DATA_FILE,\n",
    "        )\n",
    "\n",
    "        return data_ingestion_config"
   ]
  },
  {
   "cell_type": "code",
   "execution_count": 14,
   "metadata": {},
   "outputs": [],
   "source": [
    "from datasets import load_dataset\n",
    "\n",
    "class DataIngestion:\n",
    "    def __init__(self, config: DataIngestionConfig):\n",
    "        self.config = config\n",
    "\n",
    "    def download_data(self):\n",
    "        for i in range(len(self.config.LOCAL_DATA_FILE)):\n",
    "            if not os.path.exists(self.config.LOCAL_DATA_FILE[i]):\n",
    "                dataset = load_dataset(self.config.ALL_HUGGINGFACE_DATA[i])\n",
    "                dataset.save_to_disk(self.config.LOCAL_DATA_FILE[i])\n",
    "                logger.info(f\"{self.config.ALL_HUGGINGFACE_DATA[i]} downloaded!\")\n",
    "            else:\n",
    "                logger.info(f\"File already exists of size: {get_size(Path(self.config.LOCAL_DATA_FILE[i]))}\")"
   ]
  },
  {
   "cell_type": "code",
   "execution_count": 15,
   "metadata": {},
   "outputs": [
    {
     "name": "stdout",
     "output_type": "stream",
     "text": [
      "[2024-05-23 07:53:04,706: INFO: common: Yaml file: config\\config.yaml loaded successfully]\n",
      "[2024-05-23 07:53:04,709: INFO: common: Yaml file: params.yaml loaded successfully]\n",
      "[2024-05-23 07:53:04,710: INFO: common: Directory created successfully at: artifacts]\n",
      "[2024-05-23 07:53:04,711: INFO: common: Directory created successfully at: artifacts/data_ingestion]\n",
      "[2024-05-23 07:53:04,711: INFO: 368978256: File already exists of size: ~0 KB]\n"
     ]
    },
    {
     "name": "stderr",
     "output_type": "stream",
     "text": [
      "Downloading data: 100%|██████████| 295M/295M [00:34<00:00, 8.46MB/s] \n",
      "Downloading data: 100%|██████████| 28.3M/28.3M [00:05<00:00, 5.38MB/s]\n",
      "Downloading data: 100%|██████████| 39.5M/39.5M [00:06<00:00, 5.72MB/s]\n",
      "Downloading data: 100%|██████████| 40.1M/40.1M [00:06<00:00, 5.83MB/s]\n",
      "Generating train split: 100%|██████████| 44972/44972 [00:03<00:00, 13618.69 examples/s]\n",
      "Generating validation split: 100%|██████████| 5622/5622 [00:00<00:00, 25120.36 examples/s]\n",
      "Generating test split: 100%|██████████| 5622/5622 [00:00<00:00, 22323.24 examples/s]\n",
      "Saving the dataset (2/2 shards): 100%|██████████| 44972/44972 [00:07<00:00, 5653.51 examples/s] \n",
      "Saving the dataset (1/1 shards): 100%|██████████| 5622/5622 [00:00<00:00, 15343.69 examples/s]\n",
      "Saving the dataset (1/1 shards): 100%|██████████| 5622/5622 [00:00<00:00, 15216.24 examples/s]"
     ]
    },
    {
     "name": "stdout",
     "output_type": "stream",
     "text": [
      "[2024-05-23 07:54:25,968: INFO: 368978256: multi_news downloaded!]\n"
     ]
    },
    {
     "name": "stderr",
     "output_type": "stream",
     "text": [
      "\n"
     ]
    }
   ],
   "source": [
    "try:\n",
    "    config = ConfigurationManager()\n",
    "    data_ingestion_config = config.get_data_ingestion_config()\n",
    "    data_ingestion = DataIngestion(config=data_ingestion_config)\n",
    "    data_ingestion.download_data()\n",
    "except Exception as e:\n",
    "    raise e "
   ]
  },
  {
   "cell_type": "code",
   "execution_count": null,
   "metadata": {},
   "outputs": [],
   "source": []
  },
  {
   "cell_type": "code",
   "execution_count": null,
   "metadata": {},
   "outputs": [],
   "source": []
  }
 ],
 "metadata": {
  "kernelspec": {
   "display_name": "env",
   "language": "python",
   "name": "python3"
  },
  "language_info": {
   "codemirror_mode": {
    "name": "ipython",
    "version": 3
   },
   "file_extension": ".py",
   "mimetype": "text/x-python",
   "name": "python",
   "nbconvert_exporter": "python",
   "pygments_lexer": "ipython3",
   "version": "3.12.2"
  }
 },
 "nbformat": 4,
 "nbformat_minor": 2
}
