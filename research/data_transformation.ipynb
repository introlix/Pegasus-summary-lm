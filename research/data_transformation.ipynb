{
 "cells": [
  {
   "cell_type": "code",
   "execution_count": 1,
   "metadata": {},
   "outputs": [],
   "source": [
    "import os\n",
    "\n",
    "os.chdir(\"../\")"
   ]
  },
  {
   "cell_type": "code",
   "execution_count": 2,
   "metadata": {},
   "outputs": [],
   "source": [
    "from dataclasses import dataclass\n",
    "from pathlib import Path\n",
    "\n",
    "@dataclass(frozen=True)\n",
    "class DataTransformationConfig:\n",
    "    root_dir: Path\n",
    "    data_path: Path\n",
    "    ALL_REQUIRED_DATA: Path\n",
    "    tokenizer_name: Path"
   ]
  },
  {
   "cell_type": "code",
   "execution_count": 3,
   "metadata": {},
   "outputs": [],
   "source": [
    "from summarylm.constants import *\n",
    "from summarylm.utils.common import read_yaml, create_directories"
   ]
  },
  {
   "cell_type": "code",
   "execution_count": 4,
   "metadata": {},
   "outputs": [],
   "source": [
    "class ConfigurationManager:\n",
    "    def __init__(self, config_filepath = CONFIG_FILE_PATH, params_filepath = PARAMS_FILE_PATH):\n",
    "        self.config = read_yaml(config_filepath)\n",
    "        self.params = read_yaml(params_filepath)\n",
    "\n",
    "        create_directories([self.config.artifacts_root])\n",
    "\n",
    "    def get_data_transformation_config(self) -> DataTransformationConfig:\n",
    "        config = self.config.data_transformation\n",
    "\n",
    "        create_directories([config.root_dir])\n",
    "\n",
    "        data_transformation_config = DataTransformationConfig(\n",
    "            root_dir=config.root_dir,\n",
    "            data_path=config.data_path,\n",
    "            ALL_REQUIRED_DATA=config.ALL_REQUIRED_DATA,\n",
    "            tokenizer_name=config.tokenizer_name\n",
    "        )\n",
    "\n",
    "        return data_transformation_config"
   ]
  },
  {
   "cell_type": "code",
   "execution_count": 7,
   "metadata": {},
   "outputs": [],
   "source": [
    "import os\n",
    "import sys\n",
    "from summarylm.logging import logger\n",
    "from summarylm.exception import CustomException\n",
    "from transformers import AutoTokenizer\n",
    "from datasets import load_dataset, load_from_disk\n",
    "from datasets import concatenate_datasets, DatasetDict"
   ]
  },
  {
   "cell_type": "code",
   "execution_count": 24,
   "metadata": {},
   "outputs": [],
   "source": [
    "class DataTransformation:\n",
    "    def __init__(self, config: DataTransformationConfig):\n",
    "        self.config = config\n",
    "        self.tokenizer = AutoTokenizer.from_pretrained(config.tokenizer_name)\n",
    "\n",
    "    def convert_data_into_right_format(self, datasets: list) -> DatasetDict:\n",
    "        # loading all datasets\n",
    "        loaded_datasets = {}\n",
    "        print(\"Loading the dataset\")\n",
    "        for data in datasets:\n",
    "            loaded_datasets[data] = load_from_disk(data)\n",
    "\n",
    "        dataset1 = loaded_datasets[datasets[0]]\n",
    "        dataset2 = loaded_datasets[datasets[1]]\n",
    "        print(\"Dataset loaded\")\n",
    "\n",
    "        # removing unwanted columns from dataset1\n",
    "        dataset1_train = dataset1['train'].select_columns(['article', 'summary'])\n",
    "        dataset1_test = dataset1['test'].select_columns(['article', 'summary'])\n",
    "        dataset1_validation = dataset1['validation'].select_columns(['article', 'summary'])\n",
    "\n",
    "        # renaming data column name of dataset1\n",
    "        dataset1_train = dataset1_train.rename_column('article', 'text')\n",
    "        dataset1_test = dataset1_test.rename_column('article', 'text')\n",
    "        dataset1_validation = dataset1_validation.rename_column('article', 'text')\n",
    "\n",
    "        # renaming data column name of dataset2\n",
    "        dataset2_train = dataset2['train'].rename_column('document', 'text')\n",
    "        dataset2_test = dataset2['test'].rename_column('document', 'text')\n",
    "        dataset2_validation = dataset2['validation'].rename_column('document', 'text')\n",
    "\n",
    "        # concatenate_datasets\n",
    "        dataset_train = concatenate_datasets([dataset1_train, dataset2_train])\n",
    "        dataset_test = concatenate_datasets([dataset1_test, dataset2_test])\n",
    "        dataset_validation = concatenate_datasets([dataset1_validation, dataset2_validation])\n",
    "\n",
    "        # loading teh dataset into DatasetDict\n",
    "        dataset = DatasetDict({\n",
    "            \"train\": dataset_train,\n",
    "            \"validation\": dataset_validation,\n",
    "            \"test\": dataset_test,\n",
    "        })\n",
    "\n",
    "        return dataset\n",
    "\n",
    "    def convert_examples_to_features(self, example_batch):\n",
    "        input_encodings = self.tokenizer(example_batch['text'], max_length = 1024, truncation = True)\n",
    "    \n",
    "        with self.tokenizer.as_target_tokenizer():\n",
    "            target_encodings = self.tokenizer(example_batch['summary'], max_length = 128, truncation = True)\n",
    "        \n",
    "        return {\n",
    "            'input_ids': input_encodings['input_ids'],\n",
    "            'attention_mask': input_encodings['attention_mask'],\n",
    "            'labels': target_encodings['input_ids']\n",
    "        }\n",
    "    \n",
    "    def convert(self):\n",
    "        data1 = os.path.join(self.config.data_path, self.config.ALL_REQUIRED_DATA[0])\n",
    "        data2 = os.path.join(self.config.data_path, self.config.ALL_REQUIRED_DATA[1])\n",
    "\n",
    "        dataset = self.convert_data_into_right_format([data1, data2])\n",
    "        dataset_pt = dataset.map(self.convert_examples_to_features, batched=True)\n",
    "        dataset_pt.save_to_disk(os.path.join(self.config.root_dir, \"dataset\"))"
   ]
  },
  {
   "cell_type": "code",
   "execution_count": 25,
   "metadata": {},
   "outputs": [
    {
     "name": "stdout",
     "output_type": "stream",
     "text": [
      "[2024-05-23 09:04:24,048: INFO: common: Yaml file: config\\config.yaml loaded successfully]\n",
      "[2024-05-23 09:04:24,051: INFO: common: Yaml file: params.yaml loaded successfully]\n",
      "[2024-05-23 09:04:24,052: INFO: common: Directory created successfully at: artifacts]\n",
      "[2024-05-23 09:04:24,053: INFO: common: Directory created successfully at: artifacts/data_transformation]\n",
      "Loading the dataset\n",
      "Dataset loaded\n"
     ]
    },
    {
     "name": "stderr",
     "output_type": "stream",
     "text": [
      "Map:   0%|          | 0/80747 [00:00<?, ? examples/s]d:\\Satyam Mishra\\NLP Project\\Text Summarization\\env\\Lib\\site-packages\\transformers\\tokenization_utils_base.py:3921: UserWarning: `as_target_tokenizer` is deprecated and will be removed in v5 of Transformers. You can tokenize your labels by using the argument `text_target` of the regular `__call__` method (either in the same call as your input texts if you use the same keyword arguments, or in a separate call.\n",
      "  warnings.warn(\n",
      "Map: 100%|██████████| 80747/80747 [11:43<00:00, 114.72 examples/s]\n",
      "Map: 100%|██████████| 7622/7622 [01:20<00:00, 94.22 examples/s] \n",
      "Map: 100%|██████████| 7622/7622 [01:59<00:00, 63.80 examples/s] \n",
      "Saving the dataset (3/3 shards): 100%|██████████| 80747/80747 [00:13<00:00, 5803.62 examples/s] \n",
      "Saving the dataset (1/1 shards): 100%|██████████| 7622/7622 [00:01<00:00, 4202.00 examples/s]\n",
      "Saving the dataset (1/1 shards): 100%|██████████| 7622/7622 [00:01<00:00, 6924.25 examples/s]\n"
     ]
    }
   ],
   "source": [
    "try:\n",
    "    config = ConfigurationManager()\n",
    "    data_transformation_config = config.get_data_transformation_config()\n",
    "    data_transformation = DataTransformation(config=data_transformation_config)\n",
    "    data_transformation.convert()\n",
    "except Exception as e:\n",
    "    raise e"
   ]
  },
  {
   "cell_type": "code",
   "execution_count": null,
   "metadata": {},
   "outputs": [],
   "source": []
  },
  {
   "cell_type": "code",
   "execution_count": null,
   "metadata": {},
   "outputs": [],
   "source": []
  }
 ],
 "metadata": {
  "kernelspec": {
   "display_name": "env",
   "language": "python",
   "name": "python3"
  },
  "language_info": {
   "codemirror_mode": {
    "name": "ipython",
    "version": 3
   },
   "file_extension": ".py",
   "mimetype": "text/x-python",
   "name": "python",
   "nbconvert_exporter": "python",
   "pygments_lexer": "ipython3",
   "version": "3.12.2"
  }
 },
 "nbformat": 4,
 "nbformat_minor": 2
}
